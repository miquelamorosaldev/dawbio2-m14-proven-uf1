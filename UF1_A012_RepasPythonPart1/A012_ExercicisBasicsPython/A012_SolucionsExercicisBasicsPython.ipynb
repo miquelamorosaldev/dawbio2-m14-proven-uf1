{
 "cells": [
  {
   "cell_type": "markdown",
   "metadata": {},
   "source": [
    "# Exercicis de Python.\n",
    "\n",
    "## Ex1. Crea una llista de números i mostrala."
   ]
  },
  {
   "cell_type": "code",
   "execution_count": 56,
   "metadata": {},
   "outputs": [
    {
     "name": "stdout",
     "output_type": "stream",
     "text": [
      "[6.7, 8.9, 12.3, 15.9]\n",
      "[1, 4, 7, 10, 13, 16, 19, 22, 25, 28]\n"
     ]
    }
   ],
   "source": [
    "listTemp = [6.7, 8.9, 12.3, 15.9]\n",
    "print(listTemp)\n",
    "\n",
    "listNumeros = range(1,31,3)\n",
    "print(list(listNumeros))"
   ]
  },
  {
   "cell_type": "markdown",
   "metadata": {},
   "source": [
    "## EX1A -  A partir d'una llista, que va del 0 al 20, crea, usant només una nova llista, la seva potència de base 2 elevat al número."
   ]
  },
  {
   "cell_type": "code",
   "execution_count": 57,
   "metadata": {},
   "outputs": [
    {
     "data": {
      "text/plain": [
       "[1,\n",
       " 2,\n",
       " 4,\n",
       " 8,\n",
       " 16,\n",
       " 32,\n",
       " 64,\n",
       " 128,\n",
       " 256,\n",
       " 512,\n",
       " 1024,\n",
       " 2048,\n",
       " 4096,\n",
       " 8192,\n",
       " 16384,\n",
       " 32768,\n",
       " 65536,\n",
       " 131072,\n",
       " 262144,\n",
       " 524288,\n",
       " 1048576]"
      ]
     },
     "execution_count": 57,
     "metadata": {},
     "output_type": "execute_result"
    }
   ],
   "source": [
    "llistaNums = list(range(0,21))\n",
    "\n",
    "## Sol1\n",
    "llistaNums2 = [ 2**num for num in llistaNums]\n",
    "\n",
    "llistaNums2"
   ]
  },
  {
   "cell_type": "markdown",
   "metadata": {},
   "source": [
    "### Provem el Filter.\n",
    "Crea una llista de números (pex de notes d'alumnat) i una funció per a comprovar si el número és major o igual a 5, i fes que es mostrin per pantalla únicament els números de la llista majors o iguals que 5. Finalment, calcula el percentatge de números filtrats (els >=5) arrodonit a 2 decimals"
   ]
  },
  {
   "cell_type": "code",
   "execution_count": 58,
   "metadata": {},
   "outputs": [
    {
     "name": "stdout",
     "output_type": "stream",
     "text": [
      "Llista notes original.\n",
      "[8, 5, 6.2, 10, 6.8, 3.4, 7.9, 9.3, 8, 2.4, 9.7, 7.6, 9.8, 6.2, 9.2]\n",
      "Llista notes majors o iguals a 5.\n",
      "[8, 5, 6.2, 10, 6.8, 7.9, 9.3, 8, 9.7, 7.6, 9.8, 6.2, 9.2]\n",
      "Percentatge aprovats.\n",
      "86.67 %\n"
     ]
    }
   ],
   "source": [
    "def greaterOrEqual5 (num: float) -> bool:\n",
    "    return num >= 5\n",
    "\n",
    "llistaNotes: float = [8,5,6.2,10,6.8,3.4,7.9,9.3,8,2.4,9.7,7.6,9.8,6.2,9.2]\n",
    "\n",
    "print(\"Llista notes original.\")\n",
    "print(llistaNotes)\n",
    "\n",
    "print(\"Llista notes majors o iguals a 5.\")\n",
    "llistaNotesMajorsIguals5 = list(filter(greaterOrEqual5,llistaNotes))\n",
    "\n",
    "print(llistaNotesMajorsIguals5)\n",
    "\n",
    "print(\"Percentatge aprovats.\")\n",
    "# Dividim la longitud de les notes >5 respecte el total de notes \n",
    "# La funció len ens permet veure el número d'elements de les llistes. \n",
    "percAprov: int = len(llistaNotesMajorsIguals5) / len(llistaNotes)\n",
    "\n",
    "## Per arrodonir a 2 decimals usem funció round.\n",
    "print( str( round(percAprov,4)*100) + ' %') "
   ]
  },
  {
   "cell_type": "markdown",
   "metadata": {},
   "source": [
    "\n",
    "## EXA2. Crear un diccionari on les claus seran números autoincrementals a partir de l'1, i els valors una llista d'estudiants."
   ]
  },
  {
   "cell_type": "code",
   "execution_count": 59,
   "metadata": {},
   "outputs": [
    {
     "data": {
      "text/plain": [
       "{1: 'Roser',\n",
       " 2: 'Jose',\n",
       " 3: 'Pablo',\n",
       " 4: 'Susana',\n",
       " 5: 'Dora',\n",
       " 6: 'Amaya',\n",
       " 7: 'Miquel'}"
      ]
     },
     "execution_count": 59,
     "metadata": {},
     "output_type": "execute_result"
    }
   ],
   "source": [
    "llistaEstudiants = [\"Roser\",\"Jose\",\"Pablo\",\"Susana\",\"Dora\",\"Amaya\",\"Miquel\"]\n",
    "\n",
    "idEstudiants = range(1,len(llistaEstudiants)+1) \n",
    "\n",
    "\n",
    "# Solució Arnau i Gabi. Molt pràctic l'us del zip.\n",
    "dictionary = {k: v for k, v in zip(range(1,len(llistaEstudiants)+1), llistaEstudiants)}\n",
    "\n",
    "\n",
    "# Solució Miquel.\n",
    "dictEstudiants = dict()\n",
    "dictEstudiants2 = {num : llistaEstudiants[num-1] for num in range(1, len(llistaEstudiants)+1)}\n",
    "dictEstudiants2"
   ]
  },
  {
   "cell_type": "markdown",
   "metadata": {},
   "source": []
  },
  {
   "cell_type": "markdown",
   "metadata": {},
   "source": [
    "\n",
    "## EXA3. A partir d'una llista en la qual els seus valors hi ha el grup sanguini i RH d'alguns donants de sang, crea un conjunt on es vegin els valors no repetits. (grup sanguini i RH; pex A+)\n",
    "\n",
    "[\"A+\",\"O+\",\"O-\",\"A+\", \"AB+\", \"A+\", \"AB+\", \"B-\", \"O+\"]\n"
   ]
  },
  {
   "cell_type": "code",
   "execution_count": 60,
   "metadata": {},
   "outputs": [
    {
     "name": "stdout",
     "output_type": "stream",
     "text": [
      "{'O+', 'B-', 'B+', 'AB+', 'O-', 'A+'}\n",
      "['A+', 'O+', 'O-', 'AB+', 'B-', 'B+']\n"
     ]
    }
   ],
   "source": [
    "llistaDonants = [\"A+\",\"O+\",\"O-\",\"A+\", \"AB+\", \"A+\", \"AB+\", \"B-\", \"O+\", \"A+\", \"B+\", \"O+\", \"A+\"]\n",
    "\n",
    "# Solució Miquel\n",
    "\n",
    "# Automàticament el set ens permet afegir només els valors que no existeixen.\n",
    "# setGrupsSanguinis = set()\n",
    "setGrupsSanguinis = set({donant for donant in llistaDonants})\n",
    "print(setGrupsSanguinis)\n",
    "\n",
    "# Solució Arnau i Gabi.\n",
    "result = []\n",
    "for item in llistaDonants:\n",
    "    if item not in result:\n",
    "        result.append(item)\n",
    "\n",
    "print(result)\n"
   ]
  },
  {
   "cell_type": "markdown",
   "metadata": {},
   "source": [
    "## EXA4. Crea una llista de números de l'1 al 100 i una funció per verificar si un número és múltiple de 5 (True) o no (False), i fes que només es mostrin per pantalla els múltiples de 5.\n",
    "\n",
    "Pista:\n",
    "\n",
    "Operador divisió entera: %.\n",
    "\n",
    "Exemples d'ús: 10 % 5 = 0. 2 % 5 = 2.\n",
    "\n"
   ]
  },
  {
   "cell_type": "code",
   "execution_count": 61,
   "metadata": {},
   "outputs": [
    {
     "name": "stdout",
     "output_type": "stream",
     "text": [
      "Llista multiples de 5.\n",
      "[5, 10, 15, 20, 25, 30, 35, 40, 45, 50, 55, 60, 65, 70, 75, 80, 85, 90, 95, 100]\n",
      "[5, 10, 15, 20, 25, 30, 35, 40, 45, 50, 55, 60, 65, 70, 75, 80, 85, 90, 95, 100]\n"
     ]
    }
   ],
   "source": [
    "# Solució Dani\n",
    "print(\"Llista multiples de 5.\")\n",
    "lista = list (range(1,101))\n",
    "multis = list()\n",
    "for numero in lista:\n",
    "    if numero % 5 == 0:\n",
    "        multis.append(numero)\n",
    "print(multis)\n",
    "\n",
    "#Solució Miquel\n",
    "# # Funció pura que verifica si un número és múltiple de 5.\n",
    "def isMult5 (num: int) -> bool:\n",
    "    return num % 5 == 0\n",
    "\n",
    "# range genera sequències de números\n",
    "# range (num_ini, num_fin, step)\n",
    "llistaNums: float = list(range(1,101)) \n",
    "llistaMultiples5 = list(filter(isMult5,llistaNums))\n",
    "print(llistaMultiples5)\n",
    "\n",
    "#Solució List Comprension, per ara no funciona.\n",
    "#llistaCompMultiples5 = [num if num % 5 == 0 else False for num in llistaNums]\n",
    "#print(llistaCompMultiples5)"
   ]
  },
  {
   "cell_type": "markdown",
   "metadata": {},
   "source": [
    "## EXA5. Tenim un llistat de pluges mensuals. Mostra els següents resultats.\n",
    "\n",
    "llistaPluges21 = [16.5, 0.0, 32.7, 6.5, 24.6, 15.7, 2.6, 0.0, 94.2, 65.5, 25.5, 9.2]\n",
    "\n",
    "* Calcula el total(la suma)\n",
    "* Ordena la llista de valors grans a petits.\n",
    "* Mostra els 3 valors més grans.\n",
    "* Obtén el valor màxim i el mínim.\n",
    "* Calcula la mitjana aritmètica."
   ]
  },
  {
   "cell_type": "code",
   "execution_count": 66,
   "metadata": {},
   "outputs": [
    {
     "name": "stdout",
     "output_type": "stream",
     "text": [
      "293.0\n",
      "[94.2, 65.5, 32.7, 25.5, 24.6, 16.5, 15.7, 9.2, 6.5, 2.6, 0.0, 0.0]\n",
      "[94.2, 65.5, 32.7]\n",
      "Max 94.2\n",
      "Min [0.0]\n",
      "Mitjana 24.4167\n"
     ]
    }
   ],
   "source": [
    "llistaPluges21 = [16.5, 0.0, 32.7, 6.5, 24.6, 15.7, 2.6, 0.0, 94.2, 65.5, 25.5, 9.2]\n",
    "\n",
    "# 1.total\n",
    "total: int = 0\n",
    "for plujaMes in llistaPluges21:\n",
    "    total = total + plujaMes\n",
    "\n",
    "total = sum(llistaPluges21)\n",
    "\n",
    "print(total)\n",
    "\n",
    "# 2.Ordenar pluges, de max a min\n",
    "llistaPluges21.sort(reverse=True) \n",
    "print(llistaPluges21)\n",
    "\n",
    "# 3. Mostra els 3 valors més grans.\n",
    "\n",
    "print(llistaPluges21[0:3])\n",
    "\n",
    "max: float = llistaPluges21[0]\n",
    "min: float = llistaPluges21[len(llistaPluges21)-1:len(llistaPluges21)]\n",
    "\n",
    "# 4. max i min, aprofito llista ordenada\n",
    "print(f'Max {max}' )\n",
    "print(f'Min {min}' )\n",
    "\n",
    "# 5. Calcula la mitjana aritmètica.\n",
    "# Amb el total i el número d'elements la podem obtenir.\n",
    "\n",
    "numPluges: int = len(llistaPluges21)\n",
    "mitjana: int = round(total / numPluges,4)\n",
    "\n",
    "# Optimitzacio Aymane\n",
    "# avg_value = sum(list_of_values) / len(list_of_values)\n",
    "\n",
    "print(f'Mitjana {mitjana}' )"
   ]
  }
 ],
 "metadata": {
  "interpreter": {
   "hash": "80d9a229293de82ff0a6cdcaeef08119522d819e34b64930a164959170ead25a"
  },
  "kernelspec": {
   "display_name": "Python 3.10.6 ('bio')",
   "language": "python",
   "name": "python3"
  },
  "language_info": {
   "codemirror_mode": {
    "name": "ipython",
    "version": 3
   },
   "file_extension": ".py",
   "mimetype": "text/x-python",
   "name": "python",
   "nbconvert_exporter": "python",
   "pygments_lexer": "ipython3",
   "version": "3.10.6"
  },
  "orig_nbformat": 4
 },
 "nbformat": 4,
 "nbformat_minor": 2
}
